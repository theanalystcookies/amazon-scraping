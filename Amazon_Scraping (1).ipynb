{
 "cells": [
  {
   "cell_type": "code",
   "execution_count": 44,
   "id": "b05d97ba-3e5f-41a6-9230-838d349431c8",
   "metadata": {},
   "outputs": [],
   "source": [
    "#import libraries\n",
    "from bs4 import BeautifulSoup\n",
    "import requests\n",
    "import pandas as pd\n"
   ]
  },
  {
   "cell_type": "code",
   "execution_count": 45,
   "id": "f4c4e363-26d2-465f-842e-2954e888bd19",
   "metadata": {},
   "outputs": [],
   "source": [
    "#Connect to the website\n",
    "URL='https://www.amazon.com/Best-Sellers-Books/zgbs/books'\n",
    "#got header via http://httpbin.org/get\n",
    "header={  \"User-Agent\": \"Mozilla/5.0 (Windows NT 10.0; Win64; x64) AppleWebKit/537.36 (KHTML, like Gecko) Chrome/104.0.0.0 Safari/537.36\"}\n",
    "html_page=requests.get(URL,headers=header).content\n",
    "soup=BeautifulSoup(html_page,\"html.parser\")\n",
    "product_info=soup.find_all('div',class_='zg-grid-general-faceout')\n",
    "\n"
   ]
  },
  {
   "cell_type": "code",
   "execution_count": 128,
   "id": "d42785db-26a1-486d-9977-354c121961ff",
   "metadata": {},
   "outputs": [],
   "source": [
    "p_name=[]\n",
    "a_name=[]\n",
    "ratings1=[]\n",
    "ratings2=[]\n",
    "priceofbook=[]\n",
    "reviewslink=[]"
   ]
  },
  {
   "cell_type": "code",
   "execution_count": 129,
   "id": "ac615b95-5302-404f-a6b4-869a07c40a9f",
   "metadata": {},
   "outputs": [
    {
     "name": "stdout",
     "output_type": "stream",
     "text": [
      "[\"I'm Glad My Mom Died\", 'Verity', 'It Ends with Us: A Novel (1)', 'It Starts with Us: A Novel (2) (It Ends with Us)', 'Fairy Tale', 'Where the Crawdads Sing', 'Atomic Habits: An Easy & Proven Way to Build Good Habits & Break Bad Ones', 'Reminders of Him: A Novel', 'Ugly Love: A Novel', 'November 9: A Novel', 'The Seven Husbands of Evelyn Hugo: A Novel', 'The Very Hungry Caterpillar', 'The Body Keeps the Score: Brain, Mind, and Body in the Healing of Trauma', 'My First Learn-to-Write Workbook: Practice for Kids with Pen Control, Line Tracing, Letters, and More!', 'Confidence Man: The Making of Donald Trump and the Breaking of America', 'The 48 Laws of Power', 'Luckiest Girl Alive: A Novel', 'The Four Agreements: A Practical Guide to Personal Freedom (A Toltec Wisdom Book)', 'The Return of the Gods', \"Little Blue Truck's Halloween: A Halloween Book for Kids\", 'I Love You to the Moon and Back', 'All Good People Here: A Novel', 'The Great Reset: And the War for the World', 'Brown Bear, Brown Bear, What Do You See?', 'Dinner in One: Exceptional & Easy One-Pan Meals: A Cookbook', 'The Silent Patient', 'Things We Never Got Over (Knockemout Series)', \"Holding the Line: Inside the Nation's Preeminent US Attorney's Office and Its Battle with the Trump Justice Department\", 'The Butcher and The Wren: A Novel', 'I Love You Like No Otter: A Funny and Sweet Board Book for Babies and Toddlers (Baby Animal Books) (Punderland)']\n"
     ]
    }
   ],
   "source": [
    "#Book names\n",
    "def product_name():\n",
    "    for product in product_info:\n",
    "        product_name=product.find('span').text\n",
    "        p_name.append(product_name)\n",
    "        \n",
    "product_name()"
   ]
  },
  {
   "cell_type": "code",
   "execution_count": 130,
   "id": "07d35a36-da8c-43e8-ae72-b9ec524cc871",
   "metadata": {},
   "outputs": [
    {
     "name": "stdout",
     "output_type": "stream",
     "text": [
      "[]\n"
     ]
    }
   ],
   "source": [
    "#Author names\n",
    "def author_name():\n",
    "    for product in product_info:\n",
    "        author_name=product.find('div',class_='a-row a-size-small').text\n",
    "        a_name.append(author_name)    \n",
    "author_name()"
   ]
  },
  {
   "cell_type": "code",
   "execution_count": 131,
   "id": "d548bd56-1ca2-43a4-aeb1-c85d4638012c",
   "metadata": {},
   "outputs": [
    {
     "name": "stdout",
     "output_type": "stream",
     "text": [
      "4.8\n",
      "11,591\n",
      "4.6\n",
      "152,363\n",
      "4.7\n",
      "158,744\n",
      "NO rating found\n",
      "4.7\n",
      "974\n",
      "4.8\n",
      "331,591\n",
      "4.8\n",
      "108,011\n",
      "4.7\n",
      "140,750\n",
      "4.7\n",
      "76,684\n",
      "4.7\n",
      "35,283\n",
      "4.6\n",
      "119,808\n",
      "4.9\n",
      "53,217\n",
      "4.8\n",
      "54,917\n",
      "4.8\n",
      "76,445\n",
      "NO rating found\n",
      "4.7\n",
      "51,074\n",
      "3.9\n",
      "7,381\n",
      "4.7\n",
      "85,597\n",
      "4.7\n",
      "146\n",
      "4.9\n",
      "11,491\n",
      "4.9\n",
      "59,189\n",
      "4.6\n",
      "4,285\n",
      "4.9\n",
      "591\n",
      "4.9\n",
      "46,556\n",
      "4.6\n",
      "24\n",
      "4.5\n",
      "132,635\n",
      "4.5\n",
      "71,581\n",
      "NO rating found\n",
      "NO rating found\n",
      "4.9\n",
      "4,071\n"
     ]
    }
   ],
   "source": [
    "#Ratings\n",
    "def ratings():\n",
    "    for product in product_info:\n",
    "        title=product.find('div',class_='a-row')\n",
    "        rating=product.find('div',class_='a-icon-row')\n",
    "        if(rating!=None):\n",
    "            digit_rating=rating.text.split()\n",
    "            stars=digit_rating[0]      #rating out of 5 stars\n",
    "            total_ratings=digit_rating[-1]   #total Number of ratings\n",
    "            ratings1.append(stars)\n",
    "            ratings2.append(total_ratings)\n",
    "        else:\n",
    "            ratings1.append('NULL')\n",
    "            ratings2.append('NULL')\n",
    "            print('NO rating found')\n",
    "ratings()"
   ]
  },
  {
   "cell_type": "code",
   "execution_count": 132,
   "id": "4ec009da-6a32-4bcf-b69e-b9870b15cbb2",
   "metadata": {},
   "outputs": [
    {
     "name": "stdout",
     "output_type": "stream",
     "text": [
      "$18.95\n",
      "$11.26\n",
      "$9.99\n",
      "$12.99\n",
      "$20.88\n",
      "$9.98\n",
      "$11.98\n",
      "$9.57\n",
      "$10.40\n",
      "$9.99\n",
      "$9.42\n",
      "$4.92\n",
      "$11.40\n",
      "$4.07\n",
      "$23.99\n",
      "$11.60\n",
      "$9.08\n",
      "$7.74\n",
      "$18.19\n",
      "$6.32\n",
      "$4.31\n",
      "$18.51\n",
      "$20.76\n",
      "$4.55\n",
      "$20.71\n",
      "$11.91\n",
      "$13.89\n",
      "$30.00\n",
      "$18.90\n",
      "$5.37\n"
     ]
    }
   ],
   "source": [
    "#Price of book\n",
    "def price():\n",
    "    for product in product_info:\n",
    "        prices=product.find('span',class_='_cDEzb_p13n-sc-price_3mJ9Z')\n",
    "        priceofbook.append(prices.text)\n",
    "   \n",
    "price()"
   ]
  },
  {
   "cell_type": "code",
   "execution_count": 133,
   "id": "1b990191-d79a-436b-8c72-977cd7c9d0f3",
   "metadata": {},
   "outputs": [
    {
     "name": "stdout",
     "output_type": "stream",
     "text": [
      "Link not available\n",
      "Link not available\n",
      "Link not available\n",
      "Link not available\n"
     ]
    }
   ],
   "source": [
    "#Link to product reveiws\n",
    "def reviews():\n",
    "    for product in product_info:\n",
    "        rating=product.find('div',class_='a-icon-row')\n",
    "        if(rating!= None):\n",
    "            reviews_link=rating.find('a',class_='a-link-normal')\n",
    "            reviewslink.append(reviews_link.get('href'))\n",
    "        else:\n",
    "            print('Link not available')\n",
    "            reviewslink.append('NULL')\n",
    "reviews()"
   ]
  },
  {
   "cell_type": "code",
   "execution_count": 134,
   "id": "ac03d6e0-d0db-4984-9a1c-d8871ceb89e9",
   "metadata": {},
   "outputs": [
    {
     "data": {
      "text/html": [
       "<div>\n",
       "<style scoped>\n",
       "    .dataframe tbody tr th:only-of-type {\n",
       "        vertical-align: middle;\n",
       "    }\n",
       "\n",
       "    .dataframe tbody tr th {\n",
       "        vertical-align: top;\n",
       "    }\n",
       "\n",
       "    .dataframe thead th {\n",
       "        text-align: right;\n",
       "    }\n",
       "</style>\n",
       "<table border=\"1\" class=\"dataframe\">\n",
       "  <thead>\n",
       "    <tr style=\"text-align: right;\">\n",
       "      <th></th>\n",
       "      <th>Product Name</th>\n",
       "      <th>Author name</th>\n",
       "      <th>Rating out of 5</th>\n",
       "      <th>Total ratings</th>\n",
       "      <th>price</th>\n",
       "      <th>reviews link</th>\n",
       "    </tr>\n",
       "  </thead>\n",
       "  <tbody>\n",
       "    <tr>\n",
       "      <th>0</th>\n",
       "      <td>I'm Glad My Mom Died</td>\n",
       "      <td>Jennette McCurdy</td>\n",
       "      <td>4.8</td>\n",
       "      <td>11,591</td>\n",
       "      <td>$18.95</td>\n",
       "      <td>/product-reviews/1982185821/ref=zg_bs_books_cr...</td>\n",
       "    </tr>\n",
       "    <tr>\n",
       "      <th>1</th>\n",
       "      <td>Verity</td>\n",
       "      <td>Colleen Hoover</td>\n",
       "      <td>4.6</td>\n",
       "      <td>152,363</td>\n",
       "      <td>$11.26</td>\n",
       "      <td>/product-reviews/1538724731/ref=zg_bs_books_cr...</td>\n",
       "    </tr>\n",
       "    <tr>\n",
       "      <th>2</th>\n",
       "      <td>It Ends with Us: A Novel (1)</td>\n",
       "      <td>Colleen Hoover</td>\n",
       "      <td>4.7</td>\n",
       "      <td>158,744</td>\n",
       "      <td>$9.99</td>\n",
       "      <td>/product-reviews/1501110365/ref=zg_bs_books_cr...</td>\n",
       "    </tr>\n",
       "    <tr>\n",
       "      <th>3</th>\n",
       "      <td>It Starts with Us: A Novel (2) (It Ends with Us)</td>\n",
       "      <td>Colleen Hoover</td>\n",
       "      <td>NULL</td>\n",
       "      <td>NULL</td>\n",
       "      <td>$12.99</td>\n",
       "      <td>NULL</td>\n",
       "    </tr>\n",
       "    <tr>\n",
       "      <th>4</th>\n",
       "      <td>Fairy Tale</td>\n",
       "      <td>Stephen King</td>\n",
       "      <td>4.7</td>\n",
       "      <td>974</td>\n",
       "      <td>$20.88</td>\n",
       "      <td>/product-reviews/1668002175/ref=zg_bs_books_cr...</td>\n",
       "    </tr>\n",
       "  </tbody>\n",
       "</table>\n",
       "</div>"
      ],
      "text/plain": [
       "                                       Product Name       Author name  \\\n",
       "0                              I'm Glad My Mom Died  Jennette McCurdy   \n",
       "1                                            Verity    Colleen Hoover   \n",
       "2                      It Ends with Us: A Novel (1)    Colleen Hoover   \n",
       "3  It Starts with Us: A Novel (2) (It Ends with Us)    Colleen Hoover   \n",
       "4                                        Fairy Tale      Stephen King   \n",
       "\n",
       "  Rating out of 5 Total ratings   price  \\\n",
       "0             4.8        11,591  $18.95   \n",
       "1             4.6       152,363  $11.26   \n",
       "2             4.7       158,744   $9.99   \n",
       "3            NULL          NULL  $12.99   \n",
       "4             4.7           974  $20.88   \n",
       "\n",
       "                                        reviews link  \n",
       "0  /product-reviews/1982185821/ref=zg_bs_books_cr...  \n",
       "1  /product-reviews/1538724731/ref=zg_bs_books_cr...  \n",
       "2  /product-reviews/1501110365/ref=zg_bs_books_cr...  \n",
       "3                                               NULL  \n",
       "4  /product-reviews/1668002175/ref=zg_bs_books_cr...  "
      ]
     },
     "execution_count": 134,
     "metadata": {},
     "output_type": "execute_result"
    }
   ],
   "source": [
    "# Creating the DataFrame\n",
    "df = pd.DataFrame([p_name,a_name,ratings1,ratings2,priceofbook,reviewslink])\n",
    "df=df.transpose()\n",
    "df.columns=['Product Name','Author name','Rating out of 5','Total ratings','price','reviews link']  \n",
    "df.head()"
   ]
  },
  {
   "cell_type": "code",
   "execution_count": 1,
   "id": "c364f150-b845-4988-8f38-511442aa94fb",
   "metadata": {},
   "outputs": [
    {
     "ename": "NameError",
     "evalue": "name 'df' is not defined",
     "output_type": "error",
     "traceback": [
      "\u001b[1;31m---------------------------------------------------------------------------\u001b[0m",
      "\u001b[1;31mNameError\u001b[0m                                 Traceback (most recent call last)",
      "Input \u001b[1;32mIn [1]\u001b[0m, in \u001b[0;36m<cell line: 2>\u001b[1;34m()\u001b[0m\n\u001b[0;32m      1\u001b[0m \u001b[38;5;66;03m# Exporting the DataFrame as csv\u001b[39;00m\n\u001b[1;32m----> 2\u001b[0m \u001b[43mdf\u001b[49m\u001b[38;5;241m.\u001b[39mto_csv(\u001b[38;5;124m'\u001b[39m\u001b[38;5;124mbooks-list.csv\u001b[39m\u001b[38;5;124m'\u001b[39m, index\u001b[38;5;241m=\u001b[39m\u001b[38;5;28;01mFalse\u001b[39;00m, sep\u001b[38;5;241m=\u001b[39m\u001b[38;5;124m'\u001b[39m\u001b[38;5;124m;\u001b[39m\u001b[38;5;124m'\u001b[39m)\n",
      "\u001b[1;31mNameError\u001b[0m: name 'df' is not defined"
     ]
    }
   ],
   "source": [
    "# Exporting the DataFrame as csv\n",
    "df.to_csv('books-list.csv', index=False, sep=';')"
   ]
  },
  {
   "cell_type": "code",
   "execution_count": null,
   "id": "ed1956a7-db79-4623-9d6b-975c9cf6d884",
   "metadata": {},
   "outputs": [],
   "source": []
  },
  {
   "cell_type": "code",
   "execution_count": null,
   "id": "a3062b60-b3f4-4028-b049-5966b06380d6",
   "metadata": {},
   "outputs": [],
   "source": []
  }
 ],
 "metadata": {
  "kernelspec": {
   "display_name": "Python 3 (ipykernel)",
   "language": "python",
   "name": "python3"
  },
  "language_info": {
   "codemirror_mode": {
    "name": "ipython",
    "version": 3
   },
   "file_extension": ".py",
   "mimetype": "text/x-python",
   "name": "python",
   "nbconvert_exporter": "python",
   "pygments_lexer": "ipython3",
   "version": "3.10.4"
  }
 },
 "nbformat": 4,
 "nbformat_minor": 5
}
